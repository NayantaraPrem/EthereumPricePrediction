{
 "cells": [
  {
   "cell_type": "code",
   "execution_count": 46,
   "metadata": {},
   "outputs": [],
   "source": [
    "import pytrends.dailydata as dd\n",
    "import matplotlib.pyplot as plt\n",
    "from datetime import datetime"
   ]
  },
  {
   "cell_type": "code",
   "execution_count": 132,
   "metadata": {},
   "outputs": [],
   "source": [
    "def download_daily_google_trends(keyword, startYear, startMonth, endYear, endMonth):\n",
    "    \n",
    "    #API doc  and math explained: https://github.com/GeneralMills/pytrends/blob/master/pytrends/dailydata.py\n",
    "    df_daily = dd.get_daily_data(keyword, startYear, startMonth, endYear, endMonth)\n",
    "    df_daily.tail(31)\n",
    "    \n",
    "    # plotting the data per month obtained from Google\n",
    "    plt.plot(df_daily.index, df_daily[f\"{keyword}_monthly\"])\n",
    "    plt.autoscale(enable=True, axis='x', tight=True)\n",
    "    plt.title(f\"Google trends (monthly data): {keyword}\")\n",
    "    plt.grid(True)\n",
    "    plt.show()\n",
    "    \n",
    "    #plotting the daily data rescaled from the monthly data and the data in a month month 'APIs'\n",
    "    plt.plot(df_daily.index, df_daily[f\"{keyword}\"])\n",
    "    plt.autoscale(enable=True, axis='x', tight=True)\n",
    "    plt.title(f\"Google trends(rescaled to make the daily data comparable): {keyword}\")\n",
    "    plt.grid(True)\n",
    "    plt.show()\n",
    "    \n",
    "    #download CSV of the dt\n",
    "    timestamp = int(datetime.timestamp(datetime.now()))\n",
    "    filename = f\"google_trends_{keyword}_{timestamp}.csv\"\n",
    "    df_daily.to_csv(filename)\n",
    "    return"
   ]
  },
  {
   "cell_type": "code",
   "execution_count": 148,
   "metadata": {},
   "outputs": [],
   "source": [
    "import os\n",
    "import re\n",
    "import requests\n",
    "from bs4 import BeautifulSoup\n",
    "import pandas as pd\n",
    "import numpy as np\n",
    "\n",
    "def parse_record(record):\n",
    "    date = record[11:21]\n",
    "    value = record[24:-1]\n",
    "    return np.array([date,value])\n",
    "\n",
    "def download_graph_data(url, columnName):\n",
    "    response = requests.get(url)\n",
    "    script_text = BeautifulSoup(response.text,'lxml').findAll('script')[5].text\n",
    "    pattern = re.compile(r'\\[new Date\\(\"\\d{4}/\\d{2}/\\d{2}\"\\),\\d*\\w*\\]')\n",
    "    records = pattern.findall(script_text)\n",
    "    transactions = np.empty((0,2))\n",
    "    for record in records:\n",
    "        transactions = np.vstack((transactions, parse_record(record)))\n",
    "    #transactions = np.array(transactions)\n",
    "    df_tweet = pd.DataFrame(transactions[:,1], index=transactions[:,0], columns=[f\"{columnName}\"])\n",
    "    df_tweet.index = pd.to_datetime(df_tweet.index)\n",
    "    print(df_tweet.tail(3))\n",
    "    \n",
    "    #plot the tweet count\n",
    "    plt.plot(df_tweet.index, df_tweet[f\"{columnName}\"])\n",
    "    plt.yscale('log')\n",
    "    plt.title(f\"{columnName}\")\n",
    "    plt.grid(True)\n",
    "    \n",
    "    #download CSV of the dt\n",
    "    timestamp = int(datetime.timestamp(datetime.now()))\n",
    "    filename = f\"{columnName}_{timestamp}.csv\"\n",
    "    #df_tweet.to_csv(filename)"
   ]
  },
  {
   "cell_type": "code",
   "execution_count": 149,
   "metadata": {},
   "outputs": [
    {
     "name": "stdout",
     "output_type": "stream",
     "text": [
      "           ethereum_tweet_count\n",
      "2019-10-31                 4026\n",
      "2019-11-01                 3420\n",
      "2019-11-02                 3428\n"
     ]
    },
    {
     "data": {
      "image/png": "[encoded data removed]",
      "text/plain": [
       "<Figure size 432x288 with 1 Axes>"
      ]
     },
     "metadata": {
      "needs_background": "light"
     },
     "output_type": "display_data"
    }
   ],
   "source": [
    "#download_daily_google_trends(keyword = 'ethereum', startYear=2015, startMonth=7, endYear=2019, endMonth=11)\n",
    "download_graph_data(url='https://bitinfocharts.com/comparison/ethereum-tweets.html', columnName='ethereum_tweet_count')"
   ]
  },
  {
   "cell_type": "code",
   "execution_count": null,
   "metadata": {},
   "outputs": [],
   "source": []
  }
 ],
 "metadata": {
  "kernelspec": {
   "display_name": "Python 3",
   "language": "python",
   "name": "python3"
  },
  "language_info": {
   "codemirror_mode": {
    "name": "ipython",
    "version": 3
   },
   "file_extension": ".py",
   "mimetype": "text/x-python",
   "name": "python",
   "nbconvert_exporter": "python",
   "pygments_lexer": "ipython3",
   "version": "3.7.5"
  }
 },
 "nbformat": 4,
 "nbformat_minor": 2
}
