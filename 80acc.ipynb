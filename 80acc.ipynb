{
 "cells": [
  {
   "cell_type": "code",
   "execution_count": 53,
   "metadata": {
    "colab": {},
    "colab_type": "code",
    "id": "ndaf2je-jTzv"
   },
   "outputs": [],
   "source": [
    "\n",
    "import pandas as pd\n",
    "import numpy as np\n",
    "np.random.seed(5151)\n",
    "from keras.models import Sequential\n",
    "from keras.layers import LSTM, TimeDistributed, GRU, Activation, Conv2D,AveragePooling2D,Flatten, TimeDistributed,concatenate, Input,BatchNormalization\n",
    "from keras.layers import Dense\n",
    "from keras.layers import Add\n",
    "from keras.models import Model\n",
    "from keras import regularizers\n",
    "from sklearn.preprocessing import MinMaxScaler\n",
    "from sklearn.feature_selection import RFE\n",
    "from matplotlib import pyplot as plt"
   ]
  },
  {
   "cell_type": "code",
   "execution_count": 54,
   "metadata": {
    "colab": {
     "base_uri": "https://localhost:8080/",
     "height": 212
    },
    "colab_type": "code",
    "id": "TkrMZwOpjT0M",
    "outputId": "3b6ddcb3-9de6-4d6c-e83a-b7f3914c8536"
   },
   "outputs": [
    {
     "data": {
      "text/html": [
       "<div>\n",
       "<style scoped>\n",
       "    .dataframe tbody tr th:only-of-type {\n",
       "        vertical-align: middle;\n",
       "    }\n",
       "\n",
       "    .dataframe tbody tr th {\n",
       "        vertical-align: top;\n",
       "    }\n",
       "\n",
       "    .dataframe thead th {\n",
       "        text-align: right;\n",
       "    }\n",
       "</style>\n",
       "<table border=\"1\" class=\"dataframe\">\n",
       "  <thead>\n",
       "    <tr style=\"text-align: right;\">\n",
       "      <th></th>\n",
       "      <th>Date(UTC)</th>\n",
       "      <th>UnixTimeStamp</th>\n",
       "      <th>BlockSize</th>\n",
       "      <th>AvgGasPrices</th>\n",
       "      <th>GasUsed</th>\n",
       "      <th>GasLimit</th>\n",
       "      <th>BlockTime</th>\n",
       "      <th>NetworkUtilization</th>\n",
       "      <th>TransactionFees</th>\n",
       "      <th>BlockDifficulty</th>\n",
       "      <th>...</th>\n",
       "      <th>to_tx_count_a413</th>\n",
       "      <th>toSum_a413</th>\n",
       "      <th>to_tx_count_6853</th>\n",
       "      <th>toSum_6853</th>\n",
       "      <th>to_tx_count_92ff</th>\n",
       "      <th>toSum_92ff</th>\n",
       "      <th>to_tx_count_fb32</th>\n",
       "      <th>toSum_fb32</th>\n",
       "      <th>to_tx_count_84f3</th>\n",
       "      <th>toSum_84f3</th>\n",
       "    </tr>\n",
       "  </thead>\n",
       "  <tbody>\n",
       "    <tr>\n",
       "      <td>0</td>\n",
       "      <td>2015-07-30</td>\n",
       "      <td>1438214400</td>\n",
       "      <td>644</td>\n",
       "      <td>0.0</td>\n",
       "      <td>0</td>\n",
       "      <td>0</td>\n",
       "      <td>4.46</td>\n",
       "      <td>0.0</td>\n",
       "      <td>0.0</td>\n",
       "      <td>0.121</td>\n",
       "      <td>...</td>\n",
       "      <td>NaN</td>\n",
       "      <td>NaN</td>\n",
       "      <td>NaN</td>\n",
       "      <td>NaN</td>\n",
       "      <td>NaN</td>\n",
       "      <td>NaN</td>\n",
       "      <td>NaN</td>\n",
       "      <td>NaN</td>\n",
       "      <td>NaN</td>\n",
       "      <td>NaN</td>\n",
       "    </tr>\n",
       "    <tr>\n",
       "      <td>1</td>\n",
       "      <td>2015-07-31</td>\n",
       "      <td>1438300800</td>\n",
       "      <td>582</td>\n",
       "      <td>0.0</td>\n",
       "      <td>0</td>\n",
       "      <td>0</td>\n",
       "      <td>12.58</td>\n",
       "      <td>0.0</td>\n",
       "      <td>0.0</td>\n",
       "      <td>0.603</td>\n",
       "      <td>...</td>\n",
       "      <td>NaN</td>\n",
       "      <td>NaN</td>\n",
       "      <td>NaN</td>\n",
       "      <td>NaN</td>\n",
       "      <td>NaN</td>\n",
       "      <td>NaN</td>\n",
       "      <td>NaN</td>\n",
       "      <td>NaN</td>\n",
       "      <td>NaN</td>\n",
       "      <td>NaN</td>\n",
       "    </tr>\n",
       "    <tr>\n",
       "      <td>2</td>\n",
       "      <td>2015-08-01</td>\n",
       "      <td>1438387200</td>\n",
       "      <td>575</td>\n",
       "      <td>0.0</td>\n",
       "      <td>0</td>\n",
       "      <td>0</td>\n",
       "      <td>16.34</td>\n",
       "      <td>0.0</td>\n",
       "      <td>0.0</td>\n",
       "      <td>0.887</td>\n",
       "      <td>...</td>\n",
       "      <td>NaN</td>\n",
       "      <td>NaN</td>\n",
       "      <td>NaN</td>\n",
       "      <td>NaN</td>\n",
       "      <td>NaN</td>\n",
       "      <td>NaN</td>\n",
       "      <td>NaN</td>\n",
       "      <td>NaN</td>\n",
       "      <td>NaN</td>\n",
       "      <td>NaN</td>\n",
       "    </tr>\n",
       "    <tr>\n",
       "      <td>3</td>\n",
       "      <td>2015-08-02</td>\n",
       "      <td>1438473600</td>\n",
       "      <td>581</td>\n",
       "      <td>0.0</td>\n",
       "      <td>0</td>\n",
       "      <td>0</td>\n",
       "      <td>16.12</td>\n",
       "      <td>0.0</td>\n",
       "      <td>0.0</td>\n",
       "      <td>1.020</td>\n",
       "      <td>...</td>\n",
       "      <td>NaN</td>\n",
       "      <td>NaN</td>\n",
       "      <td>NaN</td>\n",
       "      <td>NaN</td>\n",
       "      <td>NaN</td>\n",
       "      <td>NaN</td>\n",
       "      <td>NaN</td>\n",
       "      <td>NaN</td>\n",
       "      <td>NaN</td>\n",
       "      <td>NaN</td>\n",
       "    </tr>\n",
       "  </tbody>\n",
       "</table>\n",
       "<p>4 rows × 75 columns</p>\n",
       "</div>"
      ],
      "text/plain": [
       "    Date(UTC)  UnixTimeStamp  BlockSize  AvgGasPrices  GasUsed  GasLimit  \\\n",
       "0  2015-07-30     1438214400        644           0.0        0         0   \n",
       "1  2015-07-31     1438300800        582           0.0        0         0   \n",
       "2  2015-08-01     1438387200        575           0.0        0         0   \n",
       "3  2015-08-02     1438473600        581           0.0        0         0   \n",
       "\n",
       "   BlockTime  NetworkUtilization  TransactionFees  BlockDifficulty  ...  \\\n",
       "0       4.46                 0.0              0.0            0.121  ...   \n",
       "1      12.58                 0.0              0.0            0.603  ...   \n",
       "2      16.34                 0.0              0.0            0.887  ...   \n",
       "3      16.12                 0.0              0.0            1.020  ...   \n",
       "\n",
       "   to_tx_count_a413  toSum_a413  to_tx_count_6853  toSum_6853  \\\n",
       "0               NaN         NaN               NaN         NaN   \n",
       "1               NaN         NaN               NaN         NaN   \n",
       "2               NaN         NaN               NaN         NaN   \n",
       "3               NaN         NaN               NaN         NaN   \n",
       "\n",
       "   to_tx_count_92ff  toSum_92ff  to_tx_count_fb32  toSum_fb32  \\\n",
       "0               NaN         NaN               NaN         NaN   \n",
       "1               NaN         NaN               NaN         NaN   \n",
       "2               NaN         NaN               NaN         NaN   \n",
       "3               NaN         NaN               NaN         NaN   \n",
       "\n",
       "   to_tx_count_84f3  toSum_84f3  \n",
       "0               NaN         NaN  \n",
       "1               NaN         NaN  \n",
       "2               NaN         NaN  \n",
       "3               NaN         NaN  \n",
       "\n",
       "[4 rows x 75 columns]"
      ]
     },
     "execution_count": 54,
     "metadata": {},
     "output_type": "execute_result"
    }
   ],
   "source": [
    "\n",
    "url='https://raw.githubusercontent.com/NayantaraPrem/EthereumPricePrediction/master/final_dataset.csv'\n",
    "df = pd.read_csv(url)\n",
    "df.head(4)"
   ]
  },
  {
   "cell_type": "code",
   "execution_count": 55,
   "metadata": {
    "colab": {
     "base_uri": "https://localhost:8080/",
     "height": 55
    },
    "colab_type": "code",
    "id": "LdsllcaZjT0o",
    "outputId": "b50c833a-6ef1-4018-ba47-00cd9e6b359a"
   },
   "outputs": [
    {
     "name": "stdout",
     "output_type": "stream",
     "text": [
      "30\n",
      "28\n",
      "['AddressCount', 'MarketCap']\n"
     ]
    }
   ],
   "source": [
    "output_column = 'Price'\n",
    "output_column_feature = 'Price'\n",
    "X = df.drop(['Date(UTC)', 'UnixTimeStamp'], axis=1)\n",
    "\n",
    "#drop rows with NaN values\n",
    "X = X.fillna(0) \n",
    "features =['AddressCount','MarketCap']\n",
    "from_cols = [col for col in X.columns if 'from' in col]\n",
    "to_cols = [col for col in X.columns if 'to' in col]\n",
    "print(len(to_cols))\n",
    "print(len(from_cols))\n",
    "\n",
    "X['Price']=X['Price'].diff()\n",
    "X['AddressCount']=X['AddressCount'].diff()\n",
    "X['MarketCap']=X['MarketCap'].diff()\n",
    "X=X.dropna()\n",
    "\n",
    "\n",
    "\n",
    "n_timesteps = 7\n",
    "n_features = len(features)\n",
    "n_outputs = 1 # no. of days to predict\n",
    "N = len(X[523:])\n",
    "print(features)"
   ]
  },
  {
   "cell_type": "code",
   "execution_count": 56,
   "metadata": {
    "colab": {
     "base_uri": "https://localhost:8080/",
     "height": 35
    },
    "colab_type": "code",
    "id": "B5cPw_jpjT1B",
    "outputId": "17382e63-48a4-4a82-f002-b57b86e31bbf"
   },
   "outputs": [
    {
     "data": {
      "text/plain": [
       "826"
      ]
     },
     "execution_count": 56,
     "metadata": {},
     "output_type": "execute_result"
    }
   ],
   "source": [
    "train_split = 0.8 #20% test, 80% train\n",
    "X_train = X[0:round((N)*train_split)]\n",
    "X_test = X[round(N*train_split):]\n",
    "N_test = X_test.shape[0]\n",
    "N_train = X_train.shape[0]\n",
    "len(X_train)"
   ]
  },
  {
   "cell_type": "code",
   "execution_count": 57,
   "metadata": {
    "colab": {
     "base_uri": "https://localhost:8080/",
     "height": 243
    },
    "colab_type": "code",
    "id": "UxkXOJtTjT1V",
    "outputId": "5f87188f-3de0-498f-d83a-4662002c99e2"
   },
   "outputs": [
    {
     "data": {
      "text/html": [
       "<div>\n",
       "<style scoped>\n",
       "    .dataframe tbody tr th:only-of-type {\n",
       "        vertical-align: middle;\n",
       "    }\n",
       "\n",
       "    .dataframe tbody tr th {\n",
       "        vertical-align: top;\n",
       "    }\n",
       "\n",
       "    .dataframe thead th {\n",
       "        text-align: right;\n",
       "    }\n",
       "</style>\n",
       "<table border=\"1\" class=\"dataframe\">\n",
       "  <thead>\n",
       "    <tr style=\"text-align: right;\">\n",
       "      <th></th>\n",
       "      <th>BlockSize</th>\n",
       "      <th>AvgGasPrices</th>\n",
       "      <th>GasUsed</th>\n",
       "      <th>GasLimit</th>\n",
       "      <th>BlockTime</th>\n",
       "      <th>NetworkUtilization</th>\n",
       "      <th>TransactionFees</th>\n",
       "      <th>BlockDifficulty</th>\n",
       "      <th>NetworkHash</th>\n",
       "      <th>EtherSupply</th>\n",
       "      <th>...</th>\n",
       "      <th>to_tx_count_a413</th>\n",
       "      <th>toSum_a413</th>\n",
       "      <th>to_tx_count_6853</th>\n",
       "      <th>toSum_6853</th>\n",
       "      <th>to_tx_count_92ff</th>\n",
       "      <th>toSum_92ff</th>\n",
       "      <th>to_tx_count_fb32</th>\n",
       "      <th>toSum_fb32</th>\n",
       "      <th>to_tx_count_84f3</th>\n",
       "      <th>toSum_84f3</th>\n",
       "    </tr>\n",
       "  </thead>\n",
       "  <tbody>\n",
       "    <tr>\n",
       "      <td>0</td>\n",
       "      <td>0.000318</td>\n",
       "      <td>0.0</td>\n",
       "      <td>0.0</td>\n",
       "      <td>0.0</td>\n",
       "      <td>0.000000</td>\n",
       "      <td>0.0</td>\n",
       "      <td>0.0</td>\n",
       "      <td>0.000000</td>\n",
       "      <td>0.000000</td>\n",
       "      <td>0.000000</td>\n",
       "      <td>...</td>\n",
       "      <td>0.0</td>\n",
       "      <td>0.0</td>\n",
       "      <td>0.0</td>\n",
       "      <td>0.0</td>\n",
       "      <td>0.0</td>\n",
       "      <td>0.0</td>\n",
       "      <td>0.0</td>\n",
       "      <td>0.0</td>\n",
       "      <td>0.0</td>\n",
       "      <td>0.0</td>\n",
       "    </tr>\n",
       "    <tr>\n",
       "      <td>1</td>\n",
       "      <td>0.000000</td>\n",
       "      <td>0.0</td>\n",
       "      <td>0.0</td>\n",
       "      <td>0.0</td>\n",
       "      <td>0.212070</td>\n",
       "      <td>0.0</td>\n",
       "      <td>0.0</td>\n",
       "      <td>0.000094</td>\n",
       "      <td>0.000052</td>\n",
       "      <td>0.001184</td>\n",
       "      <td>...</td>\n",
       "      <td>0.0</td>\n",
       "      <td>0.0</td>\n",
       "      <td>0.0</td>\n",
       "      <td>0.0</td>\n",
       "      <td>0.0</td>\n",
       "      <td>0.0</td>\n",
       "      <td>0.0</td>\n",
       "      <td>0.0</td>\n",
       "      <td>0.0</td>\n",
       "      <td>0.0</td>\n",
       "    </tr>\n",
       "    <tr>\n",
       "      <td>2</td>\n",
       "      <td>0.000272</td>\n",
       "      <td>0.0</td>\n",
       "      <td>0.0</td>\n",
       "      <td>0.0</td>\n",
       "      <td>0.199662</td>\n",
       "      <td>0.0</td>\n",
       "      <td>0.0</td>\n",
       "      <td>0.000138</td>\n",
       "      <td>0.000135</td>\n",
       "      <td>0.002390</td>\n",
       "      <td>...</td>\n",
       "      <td>0.0</td>\n",
       "      <td>0.0</td>\n",
       "      <td>0.0</td>\n",
       "      <td>0.0</td>\n",
       "      <td>0.0</td>\n",
       "      <td>0.0</td>\n",
       "      <td>0.0</td>\n",
       "      <td>0.0</td>\n",
       "      <td>0.0</td>\n",
       "      <td>0.0</td>\n",
       "    </tr>\n",
       "    <tr>\n",
       "      <td>3</td>\n",
       "      <td>0.000545</td>\n",
       "      <td>0.0</td>\n",
       "      <td>0.0</td>\n",
       "      <td>0.0</td>\n",
       "      <td>0.213762</td>\n",
       "      <td>0.0</td>\n",
       "      <td>0.0</td>\n",
       "      <td>0.000173</td>\n",
       "      <td>0.000190</td>\n",
       "      <td>0.003586</td>\n",
       "      <td>...</td>\n",
       "      <td>0.0</td>\n",
       "      <td>0.0</td>\n",
       "      <td>0.0</td>\n",
       "      <td>0.0</td>\n",
       "      <td>0.0</td>\n",
       "      <td>0.0</td>\n",
       "      <td>0.0</td>\n",
       "      <td>0.0</td>\n",
       "      <td>0.0</td>\n",
       "      <td>0.0</td>\n",
       "    </tr>\n",
       "    <tr>\n",
       "      <td>4</td>\n",
       "      <td>0.000545</td>\n",
       "      <td>0.0</td>\n",
       "      <td>0.0</td>\n",
       "      <td>0.0</td>\n",
       "      <td>0.198534</td>\n",
       "      <td>0.0</td>\n",
       "      <td>0.0</td>\n",
       "      <td>0.000203</td>\n",
       "      <td>0.000251</td>\n",
       "      <td>0.004803</td>\n",
       "      <td>...</td>\n",
       "      <td>0.0</td>\n",
       "      <td>0.0</td>\n",
       "      <td>0.0</td>\n",
       "      <td>0.0</td>\n",
       "      <td>0.0</td>\n",
       "      <td>0.0</td>\n",
       "      <td>0.0</td>\n",
       "      <td>0.0</td>\n",
       "      <td>0.0</td>\n",
       "      <td>0.0</td>\n",
       "    </tr>\n",
       "  </tbody>\n",
       "</table>\n",
       "<p>5 rows × 73 columns</p>\n",
       "</div>"
      ],
      "text/plain": [
       "   BlockSize  AvgGasPrices  GasUsed  GasLimit  BlockTime  NetworkUtilization  \\\n",
       "0   0.000318           0.0      0.0       0.0   0.000000                 0.0   \n",
       "1   0.000000           0.0      0.0       0.0   0.212070                 0.0   \n",
       "2   0.000272           0.0      0.0       0.0   0.199662                 0.0   \n",
       "3   0.000545           0.0      0.0       0.0   0.213762                 0.0   \n",
       "4   0.000545           0.0      0.0       0.0   0.198534                 0.0   \n",
       "\n",
       "   TransactionFees  BlockDifficulty  NetworkHash  EtherSupply  ...  \\\n",
       "0              0.0         0.000000     0.000000     0.000000  ...   \n",
       "1              0.0         0.000094     0.000052     0.001184  ...   \n",
       "2              0.0         0.000138     0.000135     0.002390  ...   \n",
       "3              0.0         0.000173     0.000190     0.003586  ...   \n",
       "4              0.0         0.000203     0.000251     0.004803  ...   \n",
       "\n",
       "   to_tx_count_a413  toSum_a413  to_tx_count_6853  toSum_6853  \\\n",
       "0               0.0         0.0               0.0         0.0   \n",
       "1               0.0         0.0               0.0         0.0   \n",
       "2               0.0         0.0               0.0         0.0   \n",
       "3               0.0         0.0               0.0         0.0   \n",
       "4               0.0         0.0               0.0         0.0   \n",
       "\n",
       "   to_tx_count_92ff  toSum_92ff  to_tx_count_fb32  toSum_fb32  \\\n",
       "0               0.0         0.0               0.0         0.0   \n",
       "1               0.0         0.0               0.0         0.0   \n",
       "2               0.0         0.0               0.0         0.0   \n",
       "3               0.0         0.0               0.0         0.0   \n",
       "4               0.0         0.0               0.0         0.0   \n",
       "\n",
       "   to_tx_count_84f3  toSum_84f3  \n",
       "0               0.0         0.0  \n",
       "1               0.0         0.0  \n",
       "2               0.0         0.0  \n",
       "3               0.0         0.0  \n",
       "4               0.0         0.0  \n",
       "\n",
       "[5 rows x 73 columns]"
      ]
     },
     "execution_count": 57,
     "metadata": {},
     "output_type": "execute_result"
    }
   ],
   "source": [
    "#scale training data\n",
    "# input = 3 features. Column 4 shifted is output\n",
    "input_scaler = MinMaxScaler(feature_range = (0, 1))\n",
    "X_train_scaled = pd.DataFrame(input_scaler.fit_transform(X_train), columns=X_train.columns)\n",
    "output_scaler = MinMaxScaler(feature_range = (0, 1))\n",
    "output_scaler.fit(np.array(X_train[output_column]).reshape((N_train,1))) # scaling the output column\n",
    "X_train_scaled.head()\n"
   ]
  },
  {
   "cell_type": "code",
   "execution_count": 58,
   "metadata": {
    "colab": {
     "base_uri": "https://localhost:8080/",
     "height": 35
    },
    "colab_type": "code",
    "id": "pDsUWJ8hjT1r",
    "outputId": "e48c31ef-cb2c-4039-8f85-d42a367e43d6"
   },
   "outputs": [
    {
     "data": {
      "text/plain": [
       "((819, 7, 4, 15, 1), (819, 1))"
      ]
     },
     "execution_count": 58,
     "metadata": {},
     "output_type": "execute_result"
    }
   ],
   "source": [
    "#input for other features\n",
    "X_train_windows = []\n",
    "y_train_windows = []\n",
    "x_cnn = np.zeros((n_timesteps,4,15))\n",
    "for i in range(N_train - n_timesteps):\n",
    "    for j in range(n_timesteps):\n",
    "        for k in range(15):\n",
    "                    x_cnn[j,0,k] = X_train_scaled.loc[i+j, to_cols[k*2]]\n",
    "                    x_cnn[j,1,k] = X_train_scaled.loc[i+j, to_cols[k*2+1]]\n",
    "                    if (k<2):\n",
    "                        x_cnn[j,2,k] = X_train_scaled.loc[i+j, from_cols[k*2]]\n",
    "                        x_cnn[j,3,k] = X_train_scaled.loc[i+j, from_cols[k*2+1]]\n",
    "                    if (k==2):\n",
    "                        x_cnn[j,2,k] = 0\n",
    "                        x_cnn[j,3,k] = 0\n",
    "                    if (k>2):\n",
    "                        x_cnn[j,2,k] = X_train_scaled.loc[i+j, from_cols[(k-1)*2]]\n",
    "                        x_cnn[j,3,k] = X_train_scaled.loc[i+j, from_cols[(k-1)*2+1]]\n",
    "\n",
    "    X_train_windows.append(np.array(x_cnn))\n",
    "    y_train_windows.append(np.array(X_train_scaled.loc[i+n_timesteps, X_train_scaled.columns == output_column]))\n",
    "\n",
    "X_train_windows = np.array(X_train_windows)\n",
    "X_train_windows=np.reshape(X_train_windows,(N_train - n_timesteps,n_timesteps,4,15,1))\n",
    "y_train_windows = np.array(y_train_windows)\n",
    "X_train_windows.shape, y_train_windows.shape\n"
   ]
  },
  {
   "cell_type": "code",
   "execution_count": 59,
   "metadata": {},
   "outputs": [
    {
     "data": {
      "text/plain": [
       "(819, 7, 2)"
      ]
     },
     "execution_count": 59,
     "metadata": {},
     "output_type": "execute_result"
    }
   ],
   "source": [
    "#input for CNNs\n",
    "X_train_windows2 = []\n",
    "\n",
    "for i in range(N_train - n_timesteps): \n",
    "    X_train_windows2.append(np.array(X_train_scaled.loc[i:i+n_timesteps-1, features]))\n",
    "    \n",
    "X_train_windows2 = np.array(X_train_windows2)\n",
    "X_train_windows2.shape"
   ]
  },
  {
   "cell_type": "code",
   "execution_count": 60,
   "metadata": {
    "colab": {},
    "colab_type": "code",
    "id": "LwAfqGj2jT18"
   },
   "outputs": [
    {
     "data": {
      "text/plain": [
       "<keras.callbacks.callbacks.History at 0x1a430c47d0>"
      ]
     },
     "execution_count": 60,
     "metadata": {},
     "output_type": "execute_result"
    }
   ],
   "source": [
    "#define the model\n",
    "\n",
    "input1 = Input(shape = (n_timesteps,4,15,1))\n",
    "model=(TimeDistributed(Conv2D(16, (1, 15),  activation=\"relu\")))(input1)\n",
    "model=(TimeDistributed(Conv2D(16, (4, 1), activation=\"relu\")))(model)\n",
    "model=(TimeDistributed(BatchNormalization(axis = -1)))(model)\n",
    "model=(TimeDistributed(Flatten()))(model)\n",
    "\n",
    "\n",
    "input2 =  Input(shape = (n_timesteps,len(features) ))\n",
    "\n",
    "model_merge= concatenate([model, input2])\n",
    "\n",
    "model_merge=LSTM(\n",
    "    10,\n",
    "    activation='relu',\n",
    "    return_sequences=True)(model_merge)\n",
    "\n",
    "model_merge=LSTM(10, activation='relu')(model_merge)\n",
    "model_merge=(Activation('softmax'))(model_merge)\n",
    "output=(Dense(1 ,activation='sigmoid'))(model_merge)\n",
    "\n",
    "final_model = Model(inputs=[input1, input2], outputs=[output])\n",
    "\n",
    "\n",
    "final_model.compile(optimizer='adam', loss='mse')\n",
    "\n",
    "\n",
    "# train model\n",
    "final_model.fit([X_train_windows, X_train_windows2], y_train_windows, epochs=200, verbose=0)"
   ]
  },
  {
   "cell_type": "code",
   "execution_count": 61,
   "metadata": {
    "colab": {},
    "colab_type": "code",
    "id": "wvxkdZmujT2J"
   },
   "outputs": [
    {
     "data": {
      "text/plain": [
       "((722, 7, 4, 15, 1), (722, 1))"
      ]
     },
     "execution_count": 61,
     "metadata": {},
     "output_type": "execute_result"
    }
   ],
   "source": [
    "# test prediction\n",
    "\n",
    "#scale the input to [0,1]\n",
    "X_test_scaled = pd.DataFrame(input_scaler.fit_transform(X_test), columns=X_test.columns)\n",
    "\n",
    "#input for CNN\n",
    "\n",
    "X_test_windows = []\n",
    "y_test_windows = []\n",
    "x_cnn = np.zeros((n_timesteps,4,15))\n",
    "for i in range(N_test - n_timesteps):\n",
    "    for j in range(n_timesteps):\n",
    "        for k in range(15):\n",
    "            x_cnn[j,0,k] = X_test_scaled.loc[i+j, to_cols[k*2]]\n",
    "            x_cnn[j,1,k] = X_test_scaled.loc[i+j, to_cols[k*2+1]]\n",
    "            if (k<2):\n",
    "                x_cnn[j,2,k] = X_test_scaled.loc[i+j, from_cols[k*2]]\n",
    "                x_cnn[j,3,k] = X_test_scaled.loc[i+j, from_cols[k*2+1]]\n",
    "            if (k==2):\n",
    "                x_cnn[j,2,k] = 0\n",
    "                x_cnn[j,3,k] = 0\n",
    "            if (k>2):\n",
    "                x_cnn[j,2,k] = X_test_scaled.loc[i+j, from_cols[(k-1)*2]]\n",
    "                x_cnn[j,3,k] = X_test_scaled.loc[i+j, from_cols[(k-1)*2+1]]\n",
    "\n",
    "    X_test_windows.append(np.array(x_cnn))\n",
    "    y_test_windows.append(np.array(X_test_scaled.loc[i+n_timesteps, X_test_scaled.columns == output_column]))\n",
    "\n",
    "X_test_windows = np.array(X_test_windows)\n",
    "X_test_windows=np.reshape(X_test_windows,(N_test - n_timesteps,n_timesteps,4,15,1))\n",
    "\n",
    "y_test_windows = np.array(y_test_windows)\n",
    "X_test_windows.shape, y_test_windows.shape"
   ]
  },
  {
   "cell_type": "code",
   "execution_count": 62,
   "metadata": {},
   "outputs": [
    {
     "data": {
      "text/plain": [
       "(722, 7, 2)"
      ]
     },
     "execution_count": 62,
     "metadata": {},
     "output_type": "execute_result"
    }
   ],
   "source": [
    "#input for other features\n",
    "X_test_windows2 = []\n",
    "\n",
    "for i in range(N_test - n_timesteps): \n",
    "    X_test_windows2.append(np.array(X_train_scaled.loc[i:i+n_timesteps-1, features]))\n",
    "    \n",
    "X_test_windows2 = np.array(X_test_windows2)\n",
    "X_test_windows2.shape"
   ]
  },
  {
   "cell_type": "code",
   "execution_count": 63,
   "metadata": {},
   "outputs": [],
   "source": [
    "#run predictions on each window\n",
    "y_pred = []\n",
    "\n",
    "\n",
    "y_pred = final_model.predict([X_test_windows,X_test_windows2])\n",
    "\n",
    "\n",
    "# rescale the predictions back to the original values\n",
    "y_pred_scaled = output_scaler.inverse_transform(y_pred)\n",
    "y_actual_scaled = output_scaler.inverse_transform(y_test_windows)"
   ]
  },
  {
   "cell_type": "code",
   "execution_count": 64,
   "metadata": {
    "colab": {},
    "colab_type": "code",
    "id": "wEC5So1wjT2z"
   },
   "outputs": [
    {
     "data": {
      "image/png": "[encoded data removed]",
      "text/plain": [
       "<Figure size 432x288 with 1 Axes>"
      ]
     },
     "metadata": {
      "needs_background": "light"
     },
     "output_type": "display_data"
    }
   ],
   "source": [
    "plt.plot(y_pred_scaled, color='red', label='Predicted Prices')\n",
    "plt.plot(y_actual_scaled, color='green', label='Actual Prices')\n",
    "plt.legend()\n",
    "plt.show()"
   ]
  },
  {
   "cell_type": "code",
   "execution_count": 65,
   "metadata": {
    "colab": {},
    "colab_type": "code",
    "id": "2Wjs3h9YjT3B",
    "scrolled": true
   },
   "outputs": [
    {
     "name": "stdout",
     "output_type": "stream",
     "text": [
      "(722,)\n",
      "accuracy                  80.609418\n",
      "edge                       7.750203\n",
      "noise                      2.982450\n",
      "y_true_chg                13.199035\n",
      "y_pred_chg                 5.162403\n",
      "prediction_calibration     0.391120\n",
      "capture_ratio             58.717954\n",
      "edge_long                  0.085210\n",
      "edge_short               -24.285689\n",
      "edge_win                   0.671144\n",
      "edge_lose                -26.373345\n",
      "dtype: float64\n"
     ]
    }
   ],
   "source": [
    "def make_df(y_pred,y_true):\n",
    "    y_pred.name = 'y_pred'\n",
    "    y_true.name = 'y_true'\n",
    "    \n",
    "    df = pd.concat([y_pred,y_true],axis=1)\n",
    "\n",
    "    df['sign_pred'] = df.y_pred.apply(np.sign)\n",
    "    df['sign_true'] = df.y_true.apply(np.sign)\n",
    "    df['is_correct'] = 0\n",
    "    df.loc[df.sign_pred * df.sign_true > 0 ,'is_correct'] = 1 # only registers 1 when prediction was made AND it was correct\n",
    "    df['is_incorrect'] = 0\n",
    "    df.loc[df.sign_pred * df.sign_true < 0,'is_incorrect'] = 1 # only registers 1 when prediction was made AND it was wrong\n",
    "    df['is_predicted'] = df.is_correct + df.is_incorrect\n",
    "    df['result'] = df.sign_pred * df.y_true \n",
    "    return df\n",
    "def calc_scorecard(df):\n",
    "    scorecard = pd.Series()\n",
    "    # building block metrics\n",
    "    scorecard.loc['accuracy'] = df.is_correct.sum()*1. / (df.is_predicted.sum()*1.)*100\n",
    "    scorecard.loc['edge'] = df.result.mean()\n",
    "    scorecard.loc['noise'] = df.y_pred.diff().abs().mean()\n",
    "\n",
    "    # derived metrics\n",
    "    scorecard.loc['y_true_chg'] = df.y_true.abs().mean()\n",
    "    scorecard.loc['y_pred_chg'] = df.y_pred.abs().mean()\n",
    "    scorecard.loc['prediction_calibration'] = scorecard.loc['y_pred_chg']/scorecard.loc['y_true_chg']\n",
    "    scorecard.loc['capture_ratio'] = scorecard.loc['edge']/scorecard.loc['y_true_chg']*100\n",
    "\n",
    "    # metrics for a subset of predictions\n",
    "    scorecard.loc['edge_long'] = df[df.sign_pred == 1].result.mean()  - df.y_true.mean()\n",
    "    scorecard.loc['edge_short'] = df[df.sign_pred == -1].result.mean()  - df.y_true.mean()\n",
    "\n",
    "    scorecard.loc['edge_win'] = df[df.is_correct == 1].result.mean()  - df.y_true.mean()\n",
    "    scorecard.loc['edge_lose'] = df[df.is_incorrect == 1].result.mean()  - df.y_true.mean()\n",
    "\n",
    "    return scorecard\n",
    "y_pred_scaled = y_pred_scaled.reshape(y_pred_scaled.shape[0])\n",
    "y_actual_scaled = y_actual_scaled.reshape(y_actual_scaled.shape[0])\n",
    "print(y_pred_scaled.shape)\n",
    "df = make_df(pd.Series(y_pred_scaled-0.5),pd.Series(y_actual_scaled-0.5))\n",
    "\n",
    "print(calc_scorecard(df))"
   ]
  },
  {
   "cell_type": "code",
   "execution_count": null,
   "metadata": {},
   "outputs": [],
   "source": []
  },
  {
   "cell_type": "code",
   "execution_count": null,
   "metadata": {},
   "outputs": [],
   "source": []
  },
  {
   "cell_type": "code",
   "execution_count": null,
   "metadata": {},
   "outputs": [],
   "source": []
  }
 ],
 "metadata": {
  "accelerator": "GPU",
  "colab": {
   "collapsed_sections": [],
   "name": "Copy of predict.ipynb",
   "provenance": []
  },
  "kernelspec": {
   "display_name": "Python 3",
   "language": "python",
   "name": "python3"
  },
  "language_info": {
   "codemirror_mode": {
    "name": "ipython",
    "version": 3
   },
   "file_extension": ".py",
   "mimetype": "text/x-python",
   "name": "python",
   "nbconvert_exporter": "python",
   "pygments_lexer": "ipython3",
   "version": "3.7.4"
  }
 },
 "nbformat": 4,
 "nbformat_minor": 1
}
